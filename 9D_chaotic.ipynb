{
  "nbformat": 4,
  "nbformat_minor": 0,
  "metadata": {
    "colab": {
      "provenance": [],
      "collapsed_sections": [
        "n5KjAdJA_Jn2"
      ],
      "toc_visible": true,
      "include_colab_link": true
    },
    "kernelspec": {
      "name": "python3",
      "display_name": "Python 3"
    },
    "language_info": {
      "name": "python"
    }
  },
  "cells": [
    {
      "cell_type": "markdown",
      "metadata": {
        "id": "view-in-github",
        "colab_type": "text"
      },
      "source": [
        "<a href=\"https://colab.research.google.com/github/MutanteApps/chaotic_maps/blob/main/9D_chaotic.ipynb\" target=\"_parent\"><img src=\"https://colab.research.google.com/assets/colab-badge.svg\" alt=\"Open In Colab\"/></a>"
      ]
    },
    {
      "cell_type": "markdown",
      "source": [
        "# Chaotic Map Iterator\n",
        "Creates a class to see and work plots for caotic equations.\n",
        "\n",
        "It just works with simple plots, with 1 to 3 variables or constants.\n",
        "\n",
        "For use this, you need:\n",
        "* A equation function, which only recieves a dict with the values of its constants and its variables, that also returns a dict with the new variables values.\n",
        "* A dict with the initial values for the variables and constants, also 'iterations' that tells how many iterations to run in the initial state.\n",
        "\n"
      ],
      "metadata": {
        "id": "0raoqcvIMd3O"
      }
    },
    {
      "cell_type": "markdown",
      "source": [
        "# Main Class"
      ],
      "metadata": {
        "id": "n5KjAdJA_Jn2"
      }
    },
    {
      "cell_type": "code",
      "source": [
        "# import to run the main class\n",
        "import numpy as np # to create the arrays for the graphics\n",
        "import matplotlib.pyplot as plt # to show information\n",
        "from collections import defaultdict\n",
        "\n",
        "# for tests and others\n",
        "import pandas as pd\n",
        "from itertools import combinations"
      ],
      "metadata": {
        "id": "XC8dmDnNMdCS"
      },
      "execution_count": null,
      "outputs": []
    },
    {
      "cell_type": "code",
      "execution_count": null,
      "metadata": {
        "id": "U-s5wNVLMW6w"
      },
      "outputs": [],
      "source": [
        "class Chaos:\n",
        "    \"\"\"\n",
        "    This class creates a iterator like object of some cool function.\n",
        "    For it to work you need to send a dict with the initial values, where each\n",
        "    variable or constant name is the key and the value for it is the initial\n",
        "    value for that. Also, you have to add the value for the number of iterations\n",
        "    to the transient state, with the name 'iterations'\n",
        "    \"\"\"\n",
        "\n",
        "    def __init__(self, values, equation=None):\n",
        "        \"\"\"\n",
        "        This create the object with the initial values and the equation to\n",
        "        iterate over.\n",
        "\n",
        "        :param values: dict with the initial values for the equation\n",
        "        :param equation: a function that takes a dictionary with the values for\n",
        "        the calculation and returns a new dictionary with the next values\n",
        "        \"\"\"\n",
        "        self.initial_values = values.copy()\n",
        "        self.values = values.copy()\n",
        "        self.iter_once = equation\n",
        "\n",
        "    def iter(self, times=1)-> None:\n",
        "        \"\"\"\n",
        "        Iterates over the equation to get new values.\n",
        "        Changes in place and doesn't return anything.\n",
        "        \"\"\"\n",
        "        for _ in range(int(times)):\n",
        "            self.update_current_values(self.iter_once(**self.values))\n",
        "\n",
        "    def change_initial_values(self, new_values:dict)->None:\n",
        "        \"\"\"\n",
        "        Updates the values for the initial values of the dict for the\n",
        "        new values passed in the dict.\n",
        "        :param new_values: dict with the new_values\n",
        "        \"\"\"\n",
        "        a = list(new_values.keys())\n",
        "        b = list(self.initial_values.keys())\n",
        "        if not (set(a+b) == set(b)):\n",
        "            raise TypeError(f'Diferent Variables. \\n    Expected: \\n          {b}. \\n    Got: \\n          {a}.')\n",
        "        self.initial_values = self.initial_values|new_values\n",
        "\n",
        "    def update_current_values(self, values_dict):\n",
        "        \"\"\"\n",
        "        Update the values for each equation\n",
        "        \"\"\"\n",
        "        a = list(values_dict.keys())\n",
        "        b = list(self.values.keys())\n",
        "        assert set(a+b) == set(b), f'There are values outside the ones in the equation'\n",
        "\n",
        "        self.values |= values_dict\n",
        "\n",
        "    def create_array(self, size, new_values=None):\n",
        "        \"\"\"\n",
        "        Create a list of numbers using the initial values updated by the values passed.\n",
        "        \"\"\"\n",
        "        if new_values is None:\n",
        "            new_values = self.initial_values.copy()\n",
        "\n",
        "        self.init_chaos(new_values)\n",
        "        values_array = defaultdict(list)\n",
        "\n",
        "        for _ in range(int(size)):\n",
        "            self.iter()\n",
        "            for var, value in self.values.items():\n",
        "                values_array[var].append(value)\n",
        "        return values_array\n",
        "\n",
        "    def init_chaos(self, new_values=None):\n",
        "        \"\"\"\n",
        "        Initiates the equation with the values given or the initial values, then iter for given times,\n",
        "        changing the values for each iteration\n",
        "        :param new_values: None or dict with the new initial values\n",
        "        \"\"\"\n",
        "        if new_values is None:\n",
        "            new_values = self.initial_values\n",
        "        else:\n",
        "            a = list(new_values.keys())\n",
        "            b = list(self.initial_values.keys())\n",
        "            assert set(a+b) == set(b), f'Diferent Variables. \\n    Expected: \\n          {b}. \\n    Got: \\n          {a}.'\n",
        "\n",
        "        self.values = self.initial_values|new_values\n",
        "\n",
        "        self.iter(self.values.get('iterations', 1))\n",
        "\n",
        "    def show_all_graphs_2d(self, variables = None, size = 100):\n",
        "        if variables is None:\n",
        "            variables = list(self.values.keys())\n",
        "        vals = self.create_array(size)\n",
        "        for x in variables:\n",
        "            for y in variables:\n",
        "                if x == y:\n",
        "                    continue\n",
        "\n",
        "                print(\"#\"*50)\n",
        "\n",
        "                X = vals.get(x)\n",
        "                Y = vals.get(y)\n",
        "\n",
        "                plt.plot(X, Y)\n",
        "                plt.xlabel(x)\n",
        "                plt.ylabel(y)\n",
        "                plt.title(f'Values of {x} x {y}')\n",
        "                plt.show()\n",
        "\n",
        "    def show_histogram(self, variables=None, size=100, bins=10):\n",
        "        vals = self.create_array(size)\n",
        "        if variables is None:\n",
        "            variables = list(self.values.keys())\n",
        "        for x in variables:\n",
        "            print(\"#\"*50)\n",
        "            plt.hist(vals.get(x), bins=bins)\n",
        "            plt.title(x)\n",
        "            plt.show()\n",
        "\n",
        "    def show_graph(self, x, y=None, z=None, /, size=100,**kwargs):\n",
        "        if z is None:\n",
        "            self.show_graph_2d(x, y , size, **kwargs)\n",
        "        else:\n",
        "            self.show_graph_3d(x, y, z, size, **kwargs)\n",
        "\n",
        "    def show_graph_2d(self, x:str, y:str, /, size=100, **kwargs):\n",
        "        vals = self.create_array(size)\n",
        "\n",
        "\n",
        "        if y is None:\n",
        "            Y = vals.get(x)\n",
        "            X = list(range(len(Y)))\n",
        "\n",
        "            title = f'Values of {x.capitalize()} in time.'\n",
        "            xlabel = '$n^{th}$ iteration'\n",
        "            ylabel = x.capitalize()\n",
        "        else:\n",
        "            Y = vals.get(y)\n",
        "            X = vals.get(x)\n",
        "            title = f'Values of {x.capitalize()} x {y.capitalize()}'\n",
        "            xlabel = x.capitalize()\n",
        "            ylabel = y.capitalize()\n",
        "        s = 5/(size/100)\n",
        "        plt.scatter(X, Y, **{'s':s, 'color':'k'}|kwargs)\n",
        "        plt.xlabel(xlabel)\n",
        "        plt.ylabel(ylabel)\n",
        "        plt.title(title)\n",
        "        plt.show()\n",
        "\n",
        "    def show_graph_3d(self, x, y, z, /, size=100, **kwargs):\n",
        "        \"\"\"\n",
        "        Plota um gráfico 3D das variáveis x, y e z ao longo das iterações.\n",
        "\n",
        "        :param x: Nome da variável x.\n",
        "        :param y: Nome da variável y.\n",
        "        :param z: Nome da variável z.\n",
        "        :param size: Número de iterações.\n",
        "        :param kwargs: Argumentos adicionais para personalização do gráfico.\n",
        "        \"\"\"\n",
        "        vals = self.create_array(size)\n",
        "\n",
        "        X = vals.get(x)\n",
        "        Y = vals.get(y)\n",
        "        Z = vals.get(z)\n",
        "\n",
        "        fig = plt.figure()\n",
        "        ax = fig.add_subplot(111, projection='3d')\n",
        "        ax.scatter(X, Y, Z, **{'s': 5/(size/100), 'color': 'k'} | kwargs)\n",
        "\n",
        "        ax.set_xlabel(x.capitalize())\n",
        "        ax.set_ylabel(y.capitalize())\n",
        "        ax.set_zlabel(z.capitalize())\n",
        "        ax.set_title(f'Values of {x.capitalize()}, {y.capitalize()}, {z.capitalize()} over time')\n",
        "\n",
        "        plt.show()\n",
        "\n",
        "\n",
        "    def show_bifurcation_graph(self, x, initial_val, end_val, how_many, y, size, **kwargs):\n",
        "        \"\"\"\n",
        "        :param x: str with the name for the x parameter\n",
        "        :param initial_val: float for the initial value for parameter x\n",
        "        :param end_val: float for the end value for parameter x\n",
        "        :param how_many: int with steps from the initial and final values for x\n",
        "        :param y: str with the name of the variable to find\n",
        "        :param size: how many values of y to find\n",
        "        \"\"\"\n",
        "        X = np.linspace(initial_val, end_val, int(how_many))\n",
        "        xs = []\n",
        "        ys = []\n",
        "        for x_val in X:\n",
        "            array_values = self.create_array(size = size, new_values={x:x_val})\n",
        "            for value in array_values[y]:\n",
        "                xs.append(x_val)\n",
        "                ys.append(value)\n",
        "\n",
        "        plt.scatter(xs, ys, **{'s':1e-5}|kwargs)\n",
        "        plt.title(f'{x} x {y}')\n",
        "        plt.xlabel(x)\n",
        "        plt.ylabel(y)\n",
        "        plt.show()"
      ]
    },
    {
      "cell_type": "markdown",
      "source": [
        "# Tent Map"
      ],
      "metadata": {
        "id": "sobaWf9XR72B"
      }
    },
    {
      "cell_type": "markdown",
      "source": [
        "## The Equation and initial values"
      ],
      "metadata": {
        "id": "tjfRxS-FKIX5"
      }
    },
    {
      "cell_type": "code",
      "source": [
        "def tent_map(x,r,**kwargs):\n",
        "    new_x = min([1-x, x])*r\n",
        "    return {'x': new_x}"
      ],
      "metadata": {
        "id": "V0EGH__gR7kY"
      },
      "execution_count": null,
      "outputs": []
    },
    {
      "cell_type": "code",
      "source": [
        "initial_values = {'x': .3,'r': 1.9999999999, 'iterations':2e2}"
      ],
      "metadata": {
        "id": "xgpZ7RCRSQ-H"
      },
      "execution_count": null,
      "outputs": []
    },
    {
      "cell_type": "code",
      "source": [
        "tent = Chaos(initial_values, tent_map)\n",
        "tent.init_chaos()"
      ],
      "metadata": {
        "id": "l51L_zIeSZU8"
      },
      "execution_count": null,
      "outputs": []
    },
    {
      "cell_type": "code",
      "source": [
        "tent.show_graph('x')"
      ],
      "metadata": {
        "id": "-TPB0SvTKiVu"
      },
      "execution_count": null,
      "outputs": []
    },
    {
      "cell_type": "markdown",
      "source": [
        "## Bifurcation map"
      ],
      "metadata": {
        "id": "2aCYffE8M204"
      }
    },
    {
      "cell_type": "code",
      "source": [
        "tent.show_bifurcation_graph('r', 0.8, 2, 1e3, 'x', 1000, color='k', s=1e-5)"
      ],
      "metadata": {
        "id": "e_PkpqyxDLKi"
      },
      "execution_count": null,
      "outputs": []
    },
    {
      "cell_type": "markdown",
      "source": [
        "## The range of the values"
      ],
      "metadata": {
        "id": "xcDqFW2YM7-7"
      }
    },
    {
      "cell_type": "code",
      "source": [
        "tent.show_histogram('x', bins=256, size=1e5)"
      ],
      "metadata": {
        "id": "4CJwlKig0IIA"
      },
      "execution_count": null,
      "outputs": []
    },
    {
      "cell_type": "markdown",
      "source": [
        "## Graphs"
      ],
      "metadata": {
        "id": "uA_Ou_3JNLBz"
      }
    },
    {
      "cell_type": "code",
      "source": [
        "# create the most usual gaph for this system\n",
        "array = tent.create_array(size=100)\n",
        "xs = array.get('x')[1:]\n",
        "ys = array.get('x')[0:-1]\n",
        "\n",
        "plt.scatter(ys, xs)\n",
        "plt.show()"
      ],
      "metadata": {
        "id": "b_Q6w2nzNbVv"
      },
      "execution_count": null,
      "outputs": []
    },
    {
      "cell_type": "markdown",
      "source": [
        "# Logistic"
      ],
      "metadata": {
        "id": "mbmTivig_GRd"
      }
    },
    {
      "cell_type": "markdown",
      "source": [
        "## The Equation and initial values"
      ],
      "metadata": {
        "id": "WcuMz0TPMXoz"
      }
    },
    {
      "cell_type": "code",
      "source": [
        "def logistic_map(x,r, **kwargs):\n",
        "    new_x = r*x*(1-x)\n",
        "    return {'x':new_x}"
      ],
      "metadata": {
        "id": "sAc55pC1fESU"
      },
      "execution_count": null,
      "outputs": []
    },
    {
      "cell_type": "code",
      "source": [
        "initial_values = {'x': .3,'r': 3.94, 'iterations':1e2}"
      ],
      "metadata": {
        "id": "6kqrNNOkoF1C"
      },
      "execution_count": null,
      "outputs": []
    },
    {
      "cell_type": "code",
      "source": [
        "logistic = Chaos(initial_values, logistic_map)\n",
        "logistic.init_chaos()"
      ],
      "metadata": {
        "id": "fy7sddSfoHvu"
      },
      "execution_count": null,
      "outputs": []
    },
    {
      "cell_type": "markdown",
      "source": [
        "## Bifurcation Map"
      ],
      "metadata": {
        "id": "oBZxWzTRPZSo"
      }
    },
    {
      "cell_type": "code",
      "source": [
        "logistic.show_bifurcation_graph('r', 0, 4, 1000, 'x', 1000)"
      ],
      "metadata": {
        "id": "dMlhjYsxPbBE"
      },
      "execution_count": null,
      "outputs": []
    },
    {
      "cell_type": "code",
      "source": [
        "logistic.show_bifurcation_graph('r', -2, 4, 1000, 'x', 1000)"
      ],
      "metadata": {
        "id": "xGByfiHFTsZa"
      },
      "execution_count": null,
      "outputs": []
    },
    {
      "cell_type": "markdown",
      "source": [
        "## The values range"
      ],
      "metadata": {
        "id": "019qtczePoIX"
      }
    },
    {
      "cell_type": "code",
      "source": [
        "logistic.show_histogram('x', bins=256, size=1000)"
      ],
      "metadata": {
        "id": "yP1YvLd5Przy"
      },
      "execution_count": null,
      "outputs": []
    },
    {
      "cell_type": "markdown",
      "source": [
        "It is shown that the values tend to the highest values."
      ],
      "metadata": {
        "id": "3GtucBXfP8kJ"
      }
    },
    {
      "cell_type": "markdown",
      "source": [
        "# Folded Towel Map"
      ],
      "metadata": {
        "id": "J05XToeo8yhm"
      }
    },
    {
      "cell_type": "markdown",
      "source": [
        "## The Equation and initial values"
      ],
      "metadata": {
        "id": "MjgmrOv_QPsz"
      }
    },
    {
      "cell_type": "code",
      "source": [
        "def folded_towel(x,y,z,alpha,beta, **kwargs):\n",
        "\n",
        "    new_x = alpha*x*(1-x)-.05*(y+.35)*(1-2*z)\n",
        "    new_y = .1*((y+.35)*(1+2*z)-1)*(1-1.9*x)\n",
        "    new_z = 3.78*z*(1-z)+beta*y\n",
        "\n",
        "    new_dict = dict()\n",
        "    new_dict['x'] = new_x\n",
        "    new_dict['y'] = new_y\n",
        "    new_dict['z'] = new_z\n",
        "\n",
        "    return new_dict"
      ],
      "metadata": {
        "id": "us771ogE8xxE"
      },
      "execution_count": null,
      "outputs": []
    },
    {
      "cell_type": "code",
      "source": [
        "variables = {\n",
        "    'x': 0.085,\n",
        "    'y': -0.121,\n",
        "    'z': 0.075,\n",
        "    'alpha': 3.7,\n",
        "    'beta': .1,\n",
        "    'iterations': 400\n",
        "}"
      ],
      "metadata": {
        "id": "DweeDy-4-drI"
      },
      "execution_count": null,
      "outputs": []
    },
    {
      "cell_type": "code",
      "source": [
        "folded = Chaos(variables, folded_towel)\n",
        "folded.init_chaos()"
      ],
      "metadata": {
        "id": "Wn45TerN_AWb"
      },
      "execution_count": null,
      "outputs": []
    },
    {
      "cell_type": "markdown",
      "source": [
        "## Bifurcation Map"
      ],
      "metadata": {
        "id": "U65ak838QYq0"
      }
    },
    {
      "cell_type": "code",
      "source": [
        "folded.show_bifurcation_graph('alpha', 1, 3.9, 1000, 'x', size=1000)"
      ],
      "metadata": {
        "id": "nlV_bYaIQm4y"
      },
      "execution_count": null,
      "outputs": []
    },
    {
      "cell_type": "markdown",
      "source": [
        "## Graphs"
      ],
      "metadata": {
        "id": "W7sbtGaKSSTl"
      }
    },
    {
      "cell_type": "code",
      "source": [
        "# usual graph for this map\n",
        "folded.show_graph('y', 'x', size=100000)"
      ],
      "metadata": {
        "id": "y3RvfX63_Pxl"
      },
      "execution_count": null,
      "outputs": []
    },
    {
      "cell_type": "code",
      "source": [
        "# the values frequency\n",
        "folded.show_histogram('xyz')"
      ],
      "metadata": {
        "id": "G3KzqTNoSpH4"
      },
      "execution_count": null,
      "outputs": []
    },
    {
      "cell_type": "markdown",
      "source": [
        "# 9D Hyperchaos"
      ],
      "metadata": {
        "id": "gqQALdMj_NJ9"
      }
    },
    {
      "cell_type": "markdown",
      "source": [
        "## The Equation and initial values"
      ],
      "metadata": {
        "id": "eJJkIYC06xt2"
      }
    },
    {
      "cell_type": "markdown",
      "source": [
        "Rayleigh-Bénard, from http://www.scholarpedia.org/article/Hyperchaos\n"
      ],
      "metadata": {
        "id": "xkU-zP9JGnei"
      }
    },
    {
      "cell_type": "code",
      "source": [
        "def chaotic_9D(c1, c2, c3, c4, c5, c6, c7, c8, c9, s, r, **kwargs):\n",
        "        s_1_2 = 1+s**2\n",
        "\n",
        "        b1 = 4*(s_1_2 / (1 + 2 * s ** 2))\n",
        "        b2 = (1+2*s**2)/(2*s_1_2)\n",
        "        b3 = 2*((1-s**2)/s_1_2)\n",
        "        b4 = s ** 2 / s_1_2\n",
        "        b5 = (8*s**2)/(1+2*s**2)\n",
        "        b6 = 4/(1+2*s**2)\n",
        "\n",
        "        limit_vals = lambda x: x%256\n",
        "\n",
        "        new_c1 = limit_vals((-s*b1*c1 - c2*c4 + b4*c4**2 + b3*c3*c5 - s*b2*c7)+c1)\n",
        "        new_c2 = limit_vals((-s*c2 + c1*c4 - c2*c5 + c4*c5 -s*c9/2)+c2)\n",
        "        new_c3 = limit_vals((-s*b1*c3+ c2*c4 -b4*c2**2 - b3*c1*c5 + s*b2*c8)+c3)\n",
        "        new_c4 = limit_vals((-s*c4 - c2*c3 - c2*c5 + c4*c5 + s*c9/2)+c4)\n",
        "        new_c5 = limit_vals((-s*b5*c5 + c2**2/2 - c4**2/2)+c5)\n",
        "        new_c6 = limit_vals((-b6*c6 + c2*c9 - c4*c9)+c6)\n",
        "        new_c7 = limit_vals((-b1*c7 - r*c1 + 2*c5*c8 - c4*c9)+c7)\n",
        "        new_c8 = limit_vals((-b1*c8 + r*c3 - 2*c5*c7 + c2*c9)+c8)\n",
        "        new_c9 = limit_vals((-c9 - r*c2 + r*c4 - 2*c2*c6 + 2*c4*c6 + c4*c7 - c2*c8)+c9)\n",
        "\n",
        "\n",
        "        new_dict = {\n",
        "            \"c1\": new_c1,\n",
        "            \"c2\": new_c2,\n",
        "            \"c3\": new_c3,\n",
        "            \"c4\": new_c4,\n",
        "            \"c5\": new_c5,\n",
        "            \"c6\": new_c6,\n",
        "            \"c7\": new_c7,\n",
        "            \"c8\": new_c8,\n",
        "            \"c9\": new_c9,\n",
        "        }\n",
        "        return new_dict"
      ],
      "metadata": {
        "id": "ZxwbjWi2zkKm"
      },
      "execution_count": null,
      "outputs": []
    },
    {
      "cell_type": "code",
      "source": [
        "import random # to generate the initital values, change to control it.\n",
        "\n",
        "variables = {}\n",
        "for key in [\"c1\",\"c2\",\"c3\",\"c4\",\"c5\",\"c6\",\"c7\",\"c8\",\"c9\"]:\n",
        "    variables[key]=random.random()\n",
        "\n",
        "constants = {\n",
        "        \"s\" : 5,\n",
        "        \"r\"     : 43.3,\n",
        "        'iterations': 1000\n",
        "}"
      ],
      "metadata": {
        "id": "5lxEsmRRzzcm"
      },
      "execution_count": null,
      "outputs": []
    },
    {
      "cell_type": "code",
      "source": [
        "nineD = Chaos(variables|constants, chaotic_9D)\n",
        "nineD.init_chaos()"
      ],
      "metadata": {
        "id": "fmOwJ93E0EY5"
      },
      "execution_count": null,
      "outputs": []
    },
    {
      "cell_type": "code",
      "source": [
        "nineD.show_graph('c1', 'c9', 'c5', size=10000)"
      ],
      "metadata": {
        "id": "zaDT9RsZ0svr"
      },
      "execution_count": null,
      "outputs": []
    },
    {
      "cell_type": "code",
      "source": [
        "nineD.show_bifurcation_graph('r', -1e15, 1e15, 100, 'c2', 100, s=1)"
      ],
      "metadata": {
        "id": "t4QOKk1FRfno"
      },
      "execution_count": null,
      "outputs": []
    },
    {
      "cell_type": "code",
      "source": [
        "nineD.show_histogram([f'c{idx+1}' for idx in range(9)], bins=128, size=1e5)"
      ],
      "metadata": {
        "id": "l6ZwhAgaLZHc"
      },
      "execution_count": null,
      "outputs": []
    },
    {
      "cell_type": "markdown",
      "source": [
        "## Test difference for close initial values"
      ],
      "metadata": {
        "id": "qrBLL31z7I75"
      }
    },
    {
      "cell_type": "code",
      "source": [
        "next_numbers = 100\n",
        "full_array = pd.DataFrame(nineD.create_array(next_numbers)) # the next 20 numbers generate by the system and the initial values"
      ],
      "metadata": {
        "id": "5-_IuGglyEf-"
      },
      "execution_count": null,
      "outputs": []
    },
    {
      "cell_type": "code",
      "source": [
        "full_array"
      ],
      "metadata": {
        "id": "qChIbixv8zYs"
      },
      "execution_count": null,
      "outputs": []
    },
    {
      "cell_type": "code",
      "source": [
        "nineD2 = Chaos(variables|constants|{'s':5-1e-14}, chaotic_9D) # just changes the value of the 's' constant, by the minimum amount possible in pure python\n",
        "full_array2 = pd.DataFrame(nineD2.create_array(next_numbers))\n",
        "print(full_array2['s'][0]) # show the new valor for the new 's' constant"
      ],
      "metadata": {
        "id": "_Gq9OjoVNQtt"
      },
      "execution_count": null,
      "outputs": []
    },
    {
      "cell_type": "code",
      "source": [
        "diff_array = full_array-full_array2 # create a array with the diference from the values from nineD and nineD2"
      ],
      "metadata": {
        "id": "F1ht2hEFNhHi"
      },
      "execution_count": null,
      "outputs": []
    },
    {
      "cell_type": "markdown",
      "source": [
        "The initial values, even close to each other, create different arrays, with\n",
        "different values and distances.\n",
        "Below are the graphics with the differences for each iteration for each variable. Note that the possible for each variable range from 0 to 255, so\n",
        "the variations are from -255 to 255."
      ],
      "metadata": {
        "id": "sfpWfHbt74Lv"
      }
    },
    {
      "cell_type": "code",
      "source": [
        "to_show = diff_array[[x for x in diff_array if x not in ['s', 'r', 'iterations']]] # avoid the variables and iterations\n",
        "\n",
        "fig, axs = plt.subplots(3,3, figsize=(15, 15))\n",
        "\n",
        "for ax, var in zip([item for sublist in axs for item in sublist],to_show):\n",
        "    ax.set_title(var)\n",
        "    ax.plot(to_show[var])\n",
        "\n",
        "fig.suptitle('Diference from the values for each variable from nineD and nineD2')\n",
        "plt.show()\n"
      ],
      "metadata": {
        "id": "hkZlSJR9-iC_"
      },
      "execution_count": null,
      "outputs": []
    },
    {
      "cell_type": "markdown",
      "source": [
        "## Bifurcation map for all variables."
      ],
      "metadata": {
        "id": "PnEgEX6mFTFp"
      }
    },
    {
      "cell_type": "code",
      "source": [
        "for constant in ['s', 'r']:\n",
        "    for variable in [\"c1\", \"c2\", \"c3\", \"c4\", \"c5\", \"c6\", \"c7\", \"c8\", \"c9\"]:\n",
        "        nineD.show_bifurcation_graph(constant, 0, 1, 1000, variable, 100, s=.1)"
      ],
      "metadata": {
        "id": "EKaRloE_3olM"
      },
      "execution_count": null,
      "outputs": []
    },
    {
      "cell_type": "markdown",
      "source": [
        "## The range of the full_array with {`next_numbers`} numbers"
      ],
      "metadata": {
        "id": "WE_VVNczF_rg"
      }
    },
    {
      "cell_type": "code",
      "source": [
        "fig, axes = plt.subplots(3,3, figsize=(30,30))\n",
        "for i in range(3):\n",
        "    for j in range(3):\n",
        "        axes[i,j].plot(full_array.get(f'c{i*3+j+1}'))\n",
        "plt.show()"
      ],
      "metadata": {
        "id": "pIJOzbWvybgE"
      },
      "execution_count": null,
      "outputs": []
    },
    {
      "cell_type": "markdown",
      "source": [
        "## Graphs with the values after the initial iterations."
      ],
      "metadata": {
        "id": "5QBbGBVzPAFm"
      }
    },
    {
      "cell_type": "markdown",
      "source": [
        "### All 2D graphics"
      ],
      "metadata": {
        "id": "ENbfN4MXHLG0"
      }
    },
    {
      "cell_type": "code",
      "source": [
        "cols=3\n",
        "rows = len(list(combinations([\"c1\",\"c2\",\"c3\",\"c4\",\"c5\",\"c6\",\"c7\",\"c8\",\"c9\"], 3)))//cols"
      ],
      "metadata": {
        "id": "rc-u6o17H9Pc"
      },
      "execution_count": null,
      "outputs": []
    },
    {
      "cell_type": "code",
      "source": [
        "rows"
      ],
      "metadata": {
        "id": "GeVy8o25H-VR"
      },
      "execution_count": null,
      "outputs": []
    },
    {
      "cell_type": "code",
      "source": [
        "nineD = Chaos(variables|constants, chaotic_9D)\n",
        "\n",
        "for var_1, var_2 in combinations([\"c1\",\"c2\",\"c3\",\"c4\",\"c5\",\"c6\",\"c7\",\"c8\",\"c9\"], 2):\n",
        "    nineD.show_graph(var_1, var_2, size=1000) # always uses the initial values"
      ],
      "metadata": {
        "id": "tfBJUs8uXRKL"
      },
      "execution_count": null,
      "outputs": []
    },
    {
      "cell_type": "markdown",
      "source": [
        "### All 3D graphics"
      ],
      "metadata": {
        "id": "BzavogapHOYk"
      }
    },
    {
      "cell_type": "code",
      "source": [
        "nineD = Chaos(variables|constants, chaotic_9D)\n",
        "for var_1, var_2, var_3 in combinations([\"c1\",\"c2\",\"c3\",\"c4\",\"c5\",\"c6\",\"c7\",\"c8\",\"c9\"], 3):\n",
        "    nineD.show_graph(var_1, var_2, var_3, size=1000) # always uses the initial values"
      ],
      "metadata": {
        "id": "EhqLUa3hHb7F"
      },
      "execution_count": null,
      "outputs": []
    },
    {
      "cell_type": "markdown",
      "source": [
        "## current and past values"
      ],
      "metadata": {
        "id": "wiYIDswOYQdI"
      }
    },
    {
      "cell_type": "code",
      "source": [
        "nineD = Chaos(variables|constants, chaotic_9D)\n",
        "full_array = nineD.create_array(100)\n",
        "for offset in range(1,15):\n",
        "    for var in [\"c1\",\"c2\",\"c3\",\"c4\",\"c5\",\"c6\",\"c7\",\"c8\",\"c9\"]:\n",
        "        Y = full_array[var][offset:] # next value\n",
        "        X = full_array[var][:-offset] # previous value\n",
        "        plt.plot(X, Y)\n",
        "        plt.title(f'${var}$')\n",
        "        plt.ylabel(f'Valor atual de ${var}$')\n",
        "        plt.xlabel(f'Valor passado de ${offset}$ ${var}$')\n",
        "        plt.show()"
      ],
      "metadata": {
        "id": "YxcFnhwlYbnr"
      },
      "execution_count": null,
      "outputs": []
    },
    {
      "cell_type": "code",
      "source": [
        "nineD = Chaos(variables|constants, chaotic_9D)\n",
        "full_array = nineD.create_array(100)\n",
        "for offset in range(1,15):\n",
        "    for var_1, var_2 in combinations([\"c1\",\"c2\",\"c3\",\"c4\",\"c5\",\"c6\",\"c7\",\"c8\",\"c9\"], 2):\n",
        "        Y = full_array[var_2][offset:] # next value\n",
        "        X = full_array[var_1][:-offset] # previous value\n",
        "        plt.plot(X, Y)\n",
        "        plt.title(f'${var_1}$ x ${var_2}$')\n",
        "        plt.ylabel(f'Valor atual de ${var_2}$')\n",
        "        plt.xlabel(f'Valor passado de ${offset}$ ${var_1}$')\n",
        "        plt.show()"
      ],
      "metadata": {
        "id": "lPRM9GjfaGo5"
      },
      "execution_count": null,
      "outputs": []
    },
    {
      "cell_type": "code",
      "source": [
        "nineD = Chaos(variables|constants, chaotic_9D)\n",
        "full_array = nineD.create_array(10000)\n",
        "for offset in range(1,15):\n",
        "    for var_1, var_2 in combinations([\"c1\",\"c2\",\"c3\",\"c4\",\"c5\",\"c6\",\"c7\",\"c8\",\"c9\"], 2):\n",
        "        Y = full_array[var_2][offset:] # next value\n",
        "        X = full_array[var_1][:-offset] # previous value\n",
        "        plt.scatter(X, Y, s=1e-1)\n",
        "        plt.title(f'${var_1}$ x ${var_2}$')\n",
        "        plt.ylabel(f'Valor atual de ${var_2}$')\n",
        "        plt.xlabel(f'Valor passado de ${offset}$ ${var_1}$')\n",
        "        plt.show()"
      ],
      "metadata": {
        "id": "W62DxL-Rbont"
      },
      "execution_count": null,
      "outputs": []
    }
  ]
}